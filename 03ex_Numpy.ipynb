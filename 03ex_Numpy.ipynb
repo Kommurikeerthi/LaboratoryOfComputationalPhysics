{
 "cells": [
  {
   "cell_type": "markdown",
   "metadata": {},
   "source": [
    "### Numpy basics"
   ]
  },
  {
   "cell_type": "code",
   "execution_count": 2,
   "metadata": {},
   "outputs": [],
   "source": [
    "\n",
    "import numpy as np\n",
    "import matplotlib.pyplot as plt\n",
    "%matplotlib inline"
   ]
  },
  {
   "cell_type": "markdown",
   "metadata": {},
   "source": [
    "1\\. Find the row, column and overall means for the following matrix:\n",
    "\n",
    "```python\n",
    "m = np.arange(12).reshape((3,4))\n",
    "```"
   ]
  },
  {
   "cell_type": "code",
   "execution_count": 57,
   "metadata": {},
   "outputs": [
    {
     "name": "stdout",
     "output_type": "stream",
     "text": [
      "Matrix:\n",
      " [[ 0  1  2  3]\n",
      " [ 4  5  6  7]\n",
      " [ 8  9 10 11]]\n",
      "Columns means: [4. 5. 6. 7.]\n",
      "Rows means: [1.5 5.5 9.5]\n",
      "Overall mean: 5.5\n"
     ]
    }
   ],
   "source": [
    "m = np.arange(12).reshape((3,4))\n",
    "print('Matrix:\\n', m)\n",
    "print('Columns means:', m.mean(axis=0))\n",
    "print('Rows means:', m.mean(axis=1))\n",
    "print('Overall mean:', m.mean())"
   ]
  },
  {
   "cell_type": "markdown",
   "metadata": {},
   "source": [
    "2\\. Find the outer product of the following two vecotrs\n",
    "\n",
    "```python\n",
    "u = np.array([1,3,5,7])\n",
    "v = np.array([2,4,6,8])\n",
    "```\n",
    "\n",
    "Do this in the following ways:\n",
    "\n",
    "   * Using the function outer in numpy\n",
    "   * Using a nested for loop or list comprehension\n",
    "   * Using numpy broadcasting operatoins\n"
   ]
  },
  {
   "cell_type": "code",
   "execution_count": 56,
   "metadata": {},
   "outputs": [
    {
     "name": "stdout",
     "output_type": "stream",
     "text": [
      "Using the function outer in numpy [[ 2  4  6  8]\n",
      " [ 6 12 18 24]\n",
      " [10 20 30 40]\n",
      " [14 28 42 56]]\n",
      "Using a nested for loop [[ 2.  4.  6.  8.]\n",
      " [ 6. 12. 18. 24.]\n",
      " [10. 20. 30. 40.]\n",
      " [14. 28. 42. 56.]]\n",
      "Using numpy broadcasting operatoins [[ 2  4  6  8]\n",
      " [ 6 12 18 24]\n",
      " [10 20 30 40]\n",
      " [14 28 42 56]]\n"
     ]
    }
   ],
   "source": [
    "u = np.array([1,3,5,7])\n",
    "v = np.array([2,4,6,8])\n",
    "\n",
    "outer = np.outer(u, v)\n",
    "print('Using the function outer in numpy', outer)\n",
    "\n",
    "listcomp = np.zeros((4, 4))\n",
    "for i in range(4):\n",
    "    for j in range(4):\n",
    "        listcomp[i, j] = u[i]*v[j]\n",
    "print('Using a nested for loop', listcomp)\n",
    "\n",
    "broadcast = u.reshape(4,1) * v\n",
    "print('Using numpy broadcasting operatoins', broadcast)"
   ]
  },
  {
   "cell_type": "markdown",
   "metadata": {},
   "source": [
    "3\\. Create a 10 by 6 matrix of random uniform numbers. Set all rows with any entry less than 0.1 to be zero\n",
    "\n",
    "Hint: Use the following numpy functions - np.random.random, np.any as well as Boolean indexing and the axis argument."
   ]
  },
  {
   "cell_type": "code",
   "execution_count": 55,
   "metadata": {},
   "outputs": [
    {
     "name": "stdout",
     "output_type": "stream",
     "text": [
      "Original matrix:\n",
      " [[0.33079297 0.22665551 0.14991463 0.87389585 0.45332903 0.07415688]\n",
      " [0.80613488 0.3139163  0.69068277 0.55854741 0.61295201 0.75278278]\n",
      " [0.97918465 0.54075616 0.19743088 0.46473224 0.60435    0.89689242]\n",
      " [0.6312339  0.12099483 0.3926283  0.44412003 0.54160997 0.93003235]\n",
      " [0.75288862 0.06234056 0.6987668  0.97055945 0.17461812 0.49510315]\n",
      " [0.25944711 0.97898477 0.07532064 0.90635861 0.38810686 0.38304773]\n",
      " [0.72988466 0.15812713 0.30568014 0.25596144 0.33036019 0.77661932]\n",
      " [0.7056354  0.21263957 0.05328501 0.5168257  0.58131088 0.57620266]\n",
      " [0.19215238 0.49847954 0.25907748 0.34701088 0.51654485 0.91398773]\n",
      " [0.54670216 0.44716199 0.18972264 0.29218204 0.25071176 0.78946643]]\n",
      "\n",
      " Modified matrix:\n",
      " [[0.33079297 0.22665551 0.14991463 0.87389585 0.45332903 0.        ]\n",
      " [0.80613488 0.3139163  0.69068277 0.55854741 0.61295201 0.75278278]\n",
      " [0.97918465 0.54075616 0.19743088 0.46473224 0.60435    0.89689242]\n",
      " [0.6312339  0.12099483 0.3926283  0.44412003 0.54160997 0.93003235]\n",
      " [0.75288862 0.         0.6987668  0.97055945 0.17461812 0.49510315]\n",
      " [0.25944711 0.97898477 0.         0.90635861 0.38810686 0.38304773]\n",
      " [0.72988466 0.15812713 0.30568014 0.25596144 0.33036019 0.77661932]\n",
      " [0.7056354  0.21263957 0.         0.5168257  0.58131088 0.57620266]\n",
      " [0.19215238 0.49847954 0.25907748 0.34701088 0.51654485 0.91398773]\n",
      " [0.54670216 0.44716199 0.18972264 0.29218204 0.25071176 0.78946643]]\n"
     ]
    }
   ],
   "source": [
    "np.random.seed(1177658)\n",
    "matrix = np.random.rand(10, 6)\n",
    "print('Original matrix:\\n', matrix)\n",
    "\n",
    "mask = (matrix < 0.1)\n",
    "matrix[mask] = 0\n",
    "\n",
    "print('\\n Modified matrix:\\n', matrix)\n"
   ]
  },
  {
   "cell_type": "markdown",
   "metadata": {},
   "source": [
    "4\\. Use np.linspace to create an array of 100 numbers between 0 and 2π (includsive).\n",
    "\n",
    "  * Extract every 10th element using slice notation\n",
    "  * Reverse the array using slice notation\n",
    "  * Extract elements where the absolute difference between the sine and cosine functions evaluated at that element is less than 0.1\n",
    "  * Make a plot showing the sin and cos functions and indicate where they are close"
   ]
  },
  {
   "cell_type": "code",
   "execution_count": 54,
   "metadata": {},
   "outputs": [
    {
     "data": {
      "text/plain": [
       "<matplotlib.legend.Legend at 0x7fa216cd1c50>"
      ]
     },
     "execution_count": 54,
     "metadata": {},
     "output_type": "execute_result"
    },
    {
     "data": {
      "image/png": "[encoded data removed]",
      "text/plain": [
       "<Figure size 432x288 with 1 Axes>"
      ]
     },
     "metadata": {
      "needs_background": "light"
     },
     "output_type": "display_data"
    }
   ],
   "source": [
    "array = np.linspace(0, 2*np.pi, 100)\n",
    "\n",
    "extract  = array[9::10]\n",
    "\n",
    "reverse = array[::-1]\n",
    "\n",
    "difference = array[np.absolute(np.sin(array) - np.cos(array)) < 0.1]\n",
    "\n",
    "\n",
    "plt.plot(array, np.sin(array), label=\"Sin\")\n",
    "plt.plot(array, np.cos(array), label=\"Cos\")\n",
    "plt.plot(difference, np.cos(difference), 'ro', label=\"Cos points\")\n",
    "plt.plot(difference, np.sin(difference), 'go', label=\"Sin points\")\n",
    "plt.legend()"
   ]
  },
  {
   "cell_type": "markdown",
   "metadata": {},
   "source": [
    "5\\. Create a matrix that shows the 10 by 10 multiplication table.\n",
    "\n",
    " * Find the trace of the matrix\n",
    " * Extract the anto-diagonal (this should be ```array([10, 18, 24, 28, 30, 30, 28, 24, 18, 10])```)\n",
    " * Extract the diagnoal offset by 1 upwards (this should be ```array([ 2,  6, 12, 20, 30, 42, 56, 72, 90])```)"
   ]
  },
  {
   "cell_type": "code",
   "execution_count": 53,
   "metadata": {},
   "outputs": [
    {
     "name": "stdout",
     "output_type": "stream",
     "text": [
      "10x10 multiplication table:\n",
      " [[  1   2   3   4   5   6   7   8   9  10]\n",
      " [  2   4   6   8  10  12  14  16  18  20]\n",
      " [  3   6   9  12  15  18  21  24  27  30]\n",
      " [  4   8  12  16  20  24  28  32  36  40]\n",
      " [  5  10  15  20  25  30  35  40  45  50]\n",
      " [  6  12  18  24  30  36  42  48  54  60]\n",
      " [  7  14  21  28  35  42  49  56  63  70]\n",
      " [  8  16  24  32  40  48  56  64  72  80]\n",
      " [  9  18  27  36  45  54  63  72  81  90]\n",
      " [ 10  20  30  40  50  60  70  80  90 100]]\n",
      "Trace: 385\n",
      "Anti diagonal: [10 18 24 28 30 30 28 24 18 10]\n",
      "Diagonal offset by -1 : [ 2  6 12 20 30 42 56 72 90]\n"
     ]
    }
   ],
   "source": [
    "\n",
    "array = np.array([1,2, 3, 4, 5, 6, 7, 8, 9, 10])\n",
    "\n",
    "matrix =np.outer(array, array)\n",
    "print('10x10 multiplication table:\\n', matrix)\n",
    "\n",
    "trace = np.trace(matrix)\n",
    "print('Trace:', trace)\n",
    "\n",
    "anti_diagonal = np.diagonal(np.fliplr(matrix))\n",
    "print(\"Anti diagonal:\", anti_diagonal)\n",
    "print('Diagonal offset by -1 :', np.diagonal(matrix,-1))"
   ]
  },
  {
   "cell_type": "markdown",
   "metadata": {},
   "source": [
    "6\\. Use broadcasting to create a grid of distances\n",
    "\n",
    "Route 66 crosses the following cities in the US: Chicago, Springfield, Saint-Louis, Tulsa, Oklahoma City, Amarillo, Santa Fe, Albuquerque, Flagstaff, Los Angeles\n",
    "The corresponding positions in miles are: 0, 198, 303, 736, 871, 1175, 1475, 1544, 1913, 2448\n",
    "\n",
    "  * Construct a 2D grid of distances among each city along Route 66\n",
    "  * Convert that in km (those savages...)"
   ]
  },
  {
   "cell_type": "code",
   "execution_count": 52,
   "metadata": {},
   "outputs": [
    {
     "name": "stdout",
     "output_type": "stream",
     "text": [
      "Distances in miles:\n",
      " [[   0  198  303  736  871 1175 1475 1544 1913 2448]\n",
      " [ 198    0  105  538  673  977 1277 1346 1715 2250]\n",
      " [ 303  105    0  433  568  872 1172 1241 1610 2145]\n",
      " [ 736  538  433    0  135  439  739  808 1177 1712]\n",
      " [ 871  673  568  135    0  304  604  673 1042 1577]\n",
      " [1175  977  872  439  304    0  300  369  738 1273]\n",
      " [1475 1277 1172  739  604  300    0   69  438  973]\n",
      " [1544 1346 1241  808  673  369   69    0  369  904]\n",
      " [1913 1715 1610 1177 1042  738  438  369    0  535]\n",
      " [2448 2250 2145 1712 1577 1273  973  904  535    0]]\n",
      "\n",
      " Distances in km:\n",
      " [[   0.    318.78  487.83 1184.96 1402.31 1891.75 2374.75 2485.84 3079.93\n",
      "  3941.28]\n",
      " [ 318.78    0.    169.05  866.18 1083.53 1572.97 2055.97 2167.06 2761.15\n",
      "  3622.5 ]\n",
      " [ 487.83  169.05    0.    697.13  914.48 1403.92 1886.92 1998.01 2592.1\n",
      "  3453.45]\n",
      " [1184.96  866.18  697.13    0.    217.35  706.79 1189.79 1300.88 1894.97\n",
      "  2756.32]\n",
      " [1402.31 1083.53  914.48  217.35    0.    489.44  972.44 1083.53 1677.62\n",
      "  2538.97]\n",
      " [1891.75 1572.97 1403.92  706.79  489.44    0.    483.    594.09 1188.18\n",
      "  2049.53]\n",
      " [2374.75 2055.97 1886.92 1189.79  972.44  483.      0.    111.09  705.18\n",
      "  1566.53]\n",
      " [2485.84 2167.06 1998.01 1300.88 1083.53  594.09  111.09    0.    594.09\n",
      "  1455.44]\n",
      " [3079.93 2761.15 2592.1  1894.97 1677.62 1188.18  705.18  594.09    0.\n",
      "   861.35]\n",
      " [3941.28 3622.5  3453.45 2756.32 2538.97 2049.53 1566.53 1455.44  861.35\n",
      "     0.  ]]\n"
     ]
    }
   ],
   "source": [
    "route = np.array([0, 198, 303, 736, 871, 1175, 1475, 1544, 1913, 2448])\n",
    "\n",
    "broadcast = abs(route.reshape(len(route), 1) - route)\n",
    "print(\"Distances in miles:\\n\", broadcast)\n",
    "\n",
    "km_distance = broadcast * 1.61\n",
    "print(\"\\n Distances in km:\\n\", km_distance)"
   ]
  },
  {
   "cell_type": "markdown",
   "metadata": {},
   "source": [
    "7\\. Prime numbers sieve: compute the prime numbers in the 0-N (N=99 to start with) range with a sieve (mask).\n",
    "  * Constract a shape (100,) boolean array, the mask\n",
    "  * Identify the multiples of each number starting from 2 and set accordingly the corresponding mask element\n",
    "  * Apply the mask to obtain an array of ordered prime numbers\n",
    "  * Check the performances (timeit); how does it scale with N?\n",
    "  * Implement the optimization suggested in the [sieve of Eratosthenes](https://en.wikipedia.org/wiki/Sieve_of_Eratosthenes)"
   ]
  },
  {
   "cell_type": "code",
   "execution_count": 51,
   "metadata": {},
   "outputs": [
    {
     "data": {
      "text/plain": [
       "(array([ 0,  1,  2,  3,  4,  5,  6,  7,  9, 11, 13, 17, 19, 23, 25, 29, 31,\n",
       "        37, 41, 43, 47, 49, 53, 59, 61, 67, 71, 73, 79, 83, 89, 97]),)"
      ]
     },
     "execution_count": 51,
     "metadata": {},
     "output_type": "execute_result"
    }
   ],
   "source": [
    "import timeit\n",
    "from math import sqrt\n",
    "\n",
    "N= 100\n",
    "\n",
    "def sieve(N):\n",
    "    primes = [True]*N\n",
    "    primes[0] = False\n",
    "    primes[1] = False\n",
    "    for i in range(2,int(sqrt(N))+1):\n",
    "            j = i*i\n",
    "            while j < N:\n",
    "                    primes[j] = False\n",
    "                    j = j+i\n",
    "    return [x for x in range(N) if primes[x] == True]\n",
    "\n",
    "def sieve_2(N):\n",
    "    prime = np.ones(N, bool)\n",
    "    for i in range(2, int(sqrt(N))+1):\n",
    "        if prime[i] == True:\n",
    "            for n in range(2, N):\n",
    "                j = i**2 + n*i\n",
    "                if j < N:\n",
    "                    prime[j] = False\n",
    "    return np.nonzero(prime)\n",
    "\n",
    "sieve_2(100)"
   ]
  },
  {
   "cell_type": "markdown",
   "metadata": {},
   "source": [
    "8\\. Diffusion using random walk\n",
    "\n",
    "Consider a simple random walk process: at each step in time, a walker jumps right or left (+1 or -1) with equal probability. The goal is to find the typical distance from the origin of a random walker after a given amount of time. \n",
    "To do that, let's simulate many walkers and create a 2D array with each walker as a raw and the actual time evolution as columns\n",
    "\n",
    "  * Take 1000 walkers and let them walk for 200 steps\n",
    "  * Use randint to create a 2D array of size walkers x steps with values -1 or 1\n",
    "  * Build the actual walking distances for each walker (i.e. another 2D array \"summing on each raw\")\n",
    "  * Take the square of that 2D array (elementwise)\n",
    "  * Compute the mean of the squared distances at each step (i.e. the mean along the columns)\n",
    "  * Plot the average distances (sqrt(distance\\*\\*2)) as a function of time (step)\n",
    "  \n",
    "Did you get what you expected?"
   ]
  },
  {
   "cell_type": "code",
   "execution_count": 50,
   "metadata": {},
   "outputs": [
    {
     "data": {
      "text/plain": [
       "Text(0.5,0,'Time')"
      ]
     },
     "execution_count": 50,
     "metadata": {},
     "output_type": "execute_result"
    },
    {
     "data": {
      "image/png": "[encoded data removed]",
      "text/plain": [
       "<Figure size 432x288 with 1 Axes>"
      ]
     },
     "metadata": {
      "needs_background": "light"
     },
     "output_type": "display_data"
    }
   ],
   "source": [
    "\n",
    "walkers = 1000\n",
    "steps = 200\n",
    "\n",
    "wakers_x_Steps = np.random.randint(2,size=(walkers,steps))\n",
    "\n",
    "wakers_x_Steps[wakers_x_Steps <  0.5] = -1\n",
    "wakers_x_Steps[wakers_x_Steps >= 0.5] =  1\n",
    "\n",
    "distance = np.zeros((walkers, steps))\n",
    "for i in range(0, walkers):\n",
    "    distance[i,0]=wakers_x_Steps[i,0]\n",
    "    for j in range(1,steps,1):\n",
    "        distance[i,j]=(np.sum(wakers_x_Steps[i,0:j+1]))\n",
    "        \n",
    "\n",
    "distance = abs(distance)\n",
    "\n",
    "mean = np.mean(distance**2, axis=0)\n",
    "\n",
    "step=np.arange(steps)\n",
    "\n",
    "plt.plot(step, mean)\n",
    "plt.ylabel(\"Distance\")\n",
    "plt.xlabel(\"Time\")\n"
   ]
  },
  {
   "cell_type": "markdown",
   "metadata": {},
   "source": [
    "9\\. Analyze a data file \n",
    "  * Download the population of hares, lynxes and carrots at the beginning of the last century.\n",
    "    ```python\n",
    "    ! wget https://www.dropbox.com/s/3vigxoqayo389uc/populations.txt\n",
    "    ```\n",
    "\n",
    "  * Check the content by looking within the file\n",
    "  * Load the data (use an appropriate numpy method) into a 2D array\n",
    "  * Create arrays out of the columns, the arrays being (in order): *year*, *hares*, *lynxes*, *carrots* \n",
    "  * Plot the 3 populations over the years\n",
    "  * Compute the main statistical properties of the dataset (mean, std, correlations, etc.)\n",
    "  * Which species has the highest population each year?\n",
    "\n",
    "Do you feel there is some evident correlation here? [Studies](https://www.enr.gov.nt.ca/en/services/lynx/lynx-snowshoe-hare-cycle) tend to believe so."
   ]
  },
  {
   "cell_type": "code",
   "execution_count": 49,
   "metadata": {},
   "outputs": [
    {
     "data": {
      "text/plain": [
       "<matplotlib.legend.Legend at 0x7fa2167dafd0>"
      ]
     },
     "execution_count": 49,
     "metadata": {},
     "output_type": "execute_result"
    },
    {
     "data": {
      "image/png": "[encoded data removed]",
      "text/plain": [
       "<Figure size 432x288 with 1 Axes>"
      ]
     },
     "metadata": {
      "needs_background": "light"
     },
     "output_type": "display_data"
    }
   ],
   "source": [
    "import matplotlib.pyplot as plt\n",
    "data = np.loadtxt('/home/keerthi/populations.txt')\n",
    "\n",
    "year=data[:,0]\n",
    "hares=data[:,1]\n",
    "lynxes=data[:,2]\n",
    "carrots=data[:,3]\n",
    "\n",
    "plt.plot(year, hares,label='hares')\n",
    "plt.plot(year, lynxes, label='lynxes')\n",
    "plt.plot(year, carrots, label='carrots')\n",
    "plt.legend()"
   ]
  }
 ],
 "metadata": {
  "kernelspec": {
   "display_name": "Python 3",
   "language": "python",
   "name": "python3"
  },
  "language_info": {
   "codemirror_mode": {
    "name": "ipython",
    "version": 3
   },
   "file_extension": ".py",
   "mimetype": "text/x-python",
   "name": "python",
   "nbconvert_exporter": "python",
   "pygments_lexer": "ipython3",
   "version": "3.7.0"
  }
 },
 "nbformat": 4,
 "nbformat_minor": 2
}
