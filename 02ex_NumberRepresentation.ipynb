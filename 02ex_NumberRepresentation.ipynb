{
 "cells": [
  {
   "cell_type": "markdown",
   "metadata": {},
   "source": [
    "1\\. Write a function that converts number representation (bin<->dec<->hex)"
   ]
  },
  {
   "cell_type": "code",
   "execution_count": 34,
   "metadata": {},
   "outputs": [
    {
     "name": "stdout",
     "output_type": "stream",
     "text": [
      "Binary representation of 18 : 0b10010\n",
      "Hexadecimal representation of 18 : 0x12\n",
      "Decimal representation of 1001011 : 43\n",
      "Hexadecimal representation of 1001011 : 0x2b\n",
      "Binary representation of 67 : 0b1000011\n",
      "Hexadecimal representation of 67 : 67\n"
     ]
    }
   ],
   "source": [
    "# an integer in decimal representation\n",
    "a=18\n",
    "# its binary representation\n",
    "a_bin = bin(a)\n",
    "print('Binary representation of',a,':', a_bin)\n",
    "# its hexadecimal representation\n",
    "a_hex = hex(a)\n",
    "print('Hexadecimal representation of',a,':', a_hex)\n",
    "\n",
    "# a dinary representation\n",
    "b=1001011\n",
    "# its decimal representation\n",
    "print('Decimal representation of',b,':', int('101011',2))\n",
    "# its hexadecimal representation\n",
    "print('Hexadecimal representation of',b,':', hex(int('101011',2)))\n",
    "\n",
    "#a hexadecimal representation\n",
    "c = 0x43 \n",
    "#its binary reprasentation\n",
    "print('Binary representation of',c,':', bin(0x43))\n",
    "#its decimal reprasentation\n",
    "print('Hexadecimal representation of',c,':',int('0x43',16))\n",
    "\n"
   ]
  },
  {
   "cell_type": "markdown",
   "metadata": {},
   "source": [
    "2\\. Write a function that converts a 32 bit word into a single precision floating point (i.e. interprets the various bits as sign, mantissa and exponent)"
   ]
  },
  {
   "cell_type": "code",
   "execution_count": 35,
   "metadata": {},
   "outputs": [
    {
     "data": {
      "text/plain": [
       "-3.551219595117973e+24"
      ]
     },
     "execution_count": 35,
     "metadata": {},
     "output_type": "execute_result"
    }
   ],
   "source": [
    "def single_precision(word):\n",
    "    sign_bit=word[0]\n",
    "    if sign_bit=='0':\n",
    "        sign='Positive'\n",
    "    else:\n",
    "        sign='Negative'\n",
    "    Exponent=word[1:9]\n",
    "    Exp=int(Exponent,2)\n",
    "    \n",
    "    Mantissa_bits=word[9:32] \n",
    "    Mantissa=1\n",
    "    for i in range(0,len(Mantissa_bits)):\n",
    "        Mantissa=Mantissa+int(Mantissa_bits[i])*pow(2,-i)\n",
    "    \n",
    "    Float_num=(-1)**int(sign_bit) * Mantissa * pow(2,(Exp -127))\n",
    "    \n",
    "    return Float_num\n",
    "    \n",
    "word='11100111111111000000000000000000'\n",
    "single_precision(word)"
   ]
  },
  {
   "cell_type": "markdown",
   "metadata": {},
   "source": [
    "3\\. Write a program to determine the underflow and overflow limits (within a factor of 2) for python on your computer. \n",
    "\n",
    "**Tips**: define two variables inizialized to 1 and halve/double them enough time to exceed the under/over-flow limits  "
   ]
  },
  {
   "cell_type": "code",
   "execution_count": 41,
   "metadata": {},
   "outputs": [
    {
     "name": "stdout",
     "output_type": "stream",
     "text": [
      "underflow limit= 5e-324\n"
     ]
    }
   ],
   "source": [
    "under=1\n",
    "over=1\n",
    "while(under/2 != 0):\n",
    "    under=under/2\n",
    "\n",
    "print(\"underflow limit=\", under)\n",
    "\n",
    "#takes time to run and shows no output\n",
    "#while(over*2 != 0):\n",
    "    #over=over*2\n",
    "    \n",
    "#print(\"overflow limit=\", over)"
   ]
  },
  {
   "cell_type": "markdown",
   "metadata": {},
   "source": [
    "4\\. Write a program to determine the machine precision\n",
    "\n",
    "**Tips**: define a new variable by adding a smaller and smaller value (proceeding similarly to prob. 2) to an original variable and check the point where the two are the same "
   ]
  },
  {
   "cell_type": "code",
   "execution_count": 55,
   "metadata": {},
   "outputs": [
    {
     "name": "stdout",
     "output_type": "stream",
     "text": [
      "2.220446049250313e-16\n",
      "1.1920929e-07\n"
     ]
    }
   ],
   "source": [
    "#simplest form by using np.finfo\n",
    "import numpy as np\n",
    "\n",
    "print(np.finfo(float).eps)\n",
    "\n",
    "print(np.finfo(np.float32).eps)\n"
   ]
  },
  {
   "cell_type": "code",
   "execution_count": 61,
   "metadata": {},
   "outputs": [
    {
     "data": {
      "text/plain": [
       "2.220446049250313e-16"
      ]
     },
     "execution_count": 61,
     "metadata": {},
     "output_type": "execute_result"
    }
   ],
   "source": [
    "def machine_precision(func=float):\n",
    "    a = func(1)\n",
    "    while func(1)+func(a) != func(1):\n",
    "        b = a\n",
    "        a = func(a) / func(2)\n",
    "    return b\n",
    "\n",
    "machine_precision(float)\n",
    "\n",
    "#machine_precision(np.float64) #gives same result as above \n",
    "#machine_precision(np.float32) #gives a result 1.1920929e-07"
   ]
  },
  {
   "cell_type": "markdown",
   "metadata": {},
   "source": [
    "5\\. Write a function that takes in input three parameters $a$, $b$ and $c$ and prints out the two solutions to the quadratic equation $ax^2+bx+c=0$ using the standard formula:\n",
    "$$\n",
    "x=\\frac{-b\\pm\\sqrt{b^2-4ac}}{2a}\n",
    "$$\n",
    "\n",
    "(a) use the program to compute the solution for $a=0.001$, $b=1000$ and $c=0.001$\n",
    "\n",
    "(b) re-express the standard solution formula by multiplying top and bottom by $-b\\mp\\sqrt{b^2-4ac}$ and again find the solution for $a=0.001$, $b=1000$ and $c=0.001$. How does it compare with what previously obtained? Why?\n",
    "\n",
    "(c) write a function that compute the roots of a quadratic equation accurately in all cases"
   ]
  },
  {
   "cell_type": "code",
   "execution_count": 7,
   "metadata": {},
   "outputs": [
    {
     "name": "stdout",
     "output_type": "stream",
     "text": [
      "(-9.999894245993346e-07, -999999.999999)\n",
      "(-1.000000000001e-06, -1000010.5755125057)\n",
      "(-1.000000000001e-06, -999999.999999)\n"
     ]
    }
   ],
   "source": [
    "from math import sqrt\n",
    "\n",
    "#Standard Formula\n",
    "def quad1(a,b,c):\n",
    "    x1=(-b+sqrt(b**2-4*a*c))/(2*a)\n",
    "    x2=(-b-sqrt(b**2-4*a*c))/(2*a)\n",
    "    return x1,x2\n",
    "\n",
    "print(quad1(0.001,1000,0.001))\n",
    "\n",
    "#Re-express the standard formula\n",
    "def quad2(a,b,c):\n",
    "    x1 = -2*c / (b+sqrt(b**2-4*a*c))\n",
    "    x2 = -2*c / (b-sqrt(b**2-4*a*c))\n",
    "    return x1,x2\n",
    "print(quad2(0.001,1000,0.001))\n",
    "\n",
    "#Roots of quadratic equations\n",
    "def quad3(a,b,c):\n",
    "    if(b<0):\n",
    "        x1 = (2*c) / (-b+sqrt(b**2-4*a*c))\n",
    "        x2 = (-b+sqrt(b**2-4*a*c)) / (2*a)\n",
    "    else:\n",
    "        x1 = (-2*c) / (b+sqrt(b**2-4*a*c))\n",
    "        x2 = (-b-sqrt(b**2-4*a*c)) / (2*a)\n",
    "    return x1,x2\n",
    "print(quad3(0.001,1000,0.001))"
   ]
  },
  {
   "cell_type": "markdown",
   "metadata": {},
   "source": [
    "6\\. Write a program that implements the function $f(x)=x(x−1)$\n",
    "\n",
    "(a) Calculate the derivative of the function at the point $x = 1$ using the derivative definition:\n",
    "\n",
    "$$\n",
    "\\frac{{\\rm d}f}{{\\rm d}x} = \\lim_{\\delta\\to0} \\frac{f(x+\\delta)-f(x)}{\\delta}\n",
    "$$\n",
    "\n",
    "with $\\delta = 10^{−2}$. Calculate the true value of the same derivative analytically and compare with the answer your program gives. The two will not agree perfectly. Why not?\n",
    "\n",
    "(b) Repeat the calculation for $\\delta = 10^{−4}, 10^{−6}, 10^{−8}, 10^{−10}, 10^{−12}$ and $10^{−14}$. How does the accuracy scales with $\\delta$?"
   ]
  },
  {
   "cell_type": "code",
   "execution_count": 11,
   "metadata": {},
   "outputs": [
    {
     "name": "stdout",
     "output_type": "stream",
     "text": [
      "-0.09000000000000001\n",
      "delta | Derivative | Accuracy\n",
      "0.01 | 1.010000000000001 | 0.010000000000000897\n",
      "0.0001 | 1.0000999999998899 | 9.999999988985486e-05\n",
      "1e-06 | 1.0000009999177333 | 9.99917733279787e-07\n",
      "1e-07 | 1.0000001005838672 | 1.0058386723521551e-07\n",
      "1e-08 | 1.0000000039225287 | 3.922528746258536e-09\n",
      "1e-10 | 1.000000082840371 | 8.284037100736441e-08\n",
      "1e-12 | 1.0000889005833413 | 8.890058334132256e-05\n",
      "1e-14 | 0.9992007221626509 | 0.0007992778373491216\n"
     ]
    }
   ],
   "source": [
    "def func(x):\n",
    "    return(x*(x-1))\n",
    "\n",
    "print(func(0.1))\n",
    "\n",
    "delta = [1e-02, 1e-04, 1e-06, 1e-07, 1e-08, 1e-10, 1e-12, 1e-14]\n",
    "print(\"delta\", \"|\", \"Derivative\", \"|\", \"Accuracy\")\n",
    "for p in delta:\n",
    "    derivative = (func(1 + p) - func(1)) / p\n",
    "    accuracy = abs(1 - derivative) / 1\n",
    "    print(p, \"|\", derivative, \"|\", accuracy)"
   ]
  },
  {
   "cell_type": "markdown",
   "metadata": {},
   "source": [
    "7\\. Consider the integral of the semicircle of radius 1:\n",
    "$$\n",
    "I=\\int_{-1}^{1} \\sqrt(1-x^2) {\\rm d}x\n",
    "$$\n",
    "which it's known to be $I=\\frac{\\pi}{2}=1.57079632679...$.\n",
    "Alternatively we can use the Riemann definition of the integral:\n",
    "$$\n",
    "I=\\lim_{N\\to\\infty} \\sum_{k=1}^{N} h y_k \n",
    "$$\n",
    "\n",
    "with $h=2/N$ the width of each of the $N$ slices the domain is divided into and where\n",
    "$y_k$ is the value of the function at the $k-$th slice.\n",
    "\n",
    "(a) Write a programe to compute the integral with $N=100$. How does the result compares to the true value?\n",
    "\n",
    "(b) How much can $N$ be increased if the computation needs to be run in less than a second? What is the gain in running it for 1 minute? \n"
   ]
  },
  {
   "cell_type": "code",
   "execution_count": null,
   "metadata": {},
   "outputs": [],
   "source": [
    "from math import pi"
   ]
  }
 ],
 "metadata": {
  "kernelspec": {
   "display_name": "Python 3",
   "language": "python",
   "name": "python3"
  },
  "language_info": {
   "codemirror_mode": {
    "name": "ipython",
    "version": 3
   },
   "file_extension": ".py",
   "mimetype": "text/x-python",
   "name": "python",
   "nbconvert_exporter": "python",
   "pygments_lexer": "ipython3",
   "version": "3.7.0"
  }
 },
 "nbformat": 4,
 "nbformat_minor": 2
}
